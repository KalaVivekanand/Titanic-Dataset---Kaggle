{
 "cells": [
  {
   "cell_type": "code",
   "execution_count": 2,
   "metadata": {},
   "outputs": [],
   "source": [
    "from sklearn.model_selection import train_test_split\n",
    "from tensorflow.keras.models import Sequential\n",
    "from tensorflow.keras.layers import Dense, Activation, Dropout\n",
    "import numpy as np\n",
    "import pandas as pd\n",
    "from tensorflow.keras import regularizers\n",
    "from tensorflow.keras.callbacks import EarlyStopping\n",
    "from tensorflow.keras import initializers\n",
    "import tensorflow as tf\n",
    "import keras"
   ]
  },
  {
   "cell_type": "code",
   "execution_count": 3,
   "metadata": {},
   "outputs": [
    {
     "data": {
      "text/html": [
       "<div>\n",
       "<style scoped>\n",
       "    .dataframe tbody tr th:only-of-type {\n",
       "        vertical-align: middle;\n",
       "    }\n",
       "\n",
       "    .dataframe tbody tr th {\n",
       "        vertical-align: top;\n",
       "    }\n",
       "\n",
       "    .dataframe thead th {\n",
       "        text-align: right;\n",
       "    }\n",
       "</style>\n",
       "<table border=\"1\" class=\"dataframe\">\n",
       "  <thead>\n",
       "    <tr style=\"text-align: right;\">\n",
       "      <th></th>\n",
       "      <th>PassengerId</th>\n",
       "      <th>Pclass</th>\n",
       "      <th>Name</th>\n",
       "      <th>Sex</th>\n",
       "      <th>Age</th>\n",
       "      <th>SibSp</th>\n",
       "      <th>Parch</th>\n",
       "      <th>Ticket</th>\n",
       "      <th>Fare</th>\n",
       "      <th>Cabin</th>\n",
       "      <th>Embarked</th>\n",
       "      <th>Age_2</th>\n",
       "    </tr>\n",
       "  </thead>\n",
       "  <tbody>\n",
       "    <tr>\n",
       "      <th>0</th>\n",
       "      <td>892</td>\n",
       "      <td>3</td>\n",
       "      <td>Kelly, Mr. James</td>\n",
       "      <td>male</td>\n",
       "      <td>34.5</td>\n",
       "      <td>0</td>\n",
       "      <td>0</td>\n",
       "      <td>330911</td>\n",
       "      <td>7.8292</td>\n",
       "      <td>NaN</td>\n",
       "      <td>Q</td>\n",
       "      <td>34.5</td>\n",
       "    </tr>\n",
       "    <tr>\n",
       "      <th>1</th>\n",
       "      <td>893</td>\n",
       "      <td>3</td>\n",
       "      <td>Wilkes, Mrs. James (Ellen Needs)</td>\n",
       "      <td>female</td>\n",
       "      <td>47.0</td>\n",
       "      <td>1</td>\n",
       "      <td>0</td>\n",
       "      <td>363272</td>\n",
       "      <td>7.0000</td>\n",
       "      <td>NaN</td>\n",
       "      <td>S</td>\n",
       "      <td>47.0</td>\n",
       "    </tr>\n",
       "    <tr>\n",
       "      <th>2</th>\n",
       "      <td>894</td>\n",
       "      <td>2</td>\n",
       "      <td>Myles, Mr. Thomas Francis</td>\n",
       "      <td>male</td>\n",
       "      <td>62.0</td>\n",
       "      <td>0</td>\n",
       "      <td>0</td>\n",
       "      <td>240276</td>\n",
       "      <td>9.6875</td>\n",
       "      <td>NaN</td>\n",
       "      <td>Q</td>\n",
       "      <td>62.0</td>\n",
       "    </tr>\n",
       "    <tr>\n",
       "      <th>3</th>\n",
       "      <td>895</td>\n",
       "      <td>3</td>\n",
       "      <td>Wirz, Mr. Albert</td>\n",
       "      <td>male</td>\n",
       "      <td>27.0</td>\n",
       "      <td>0</td>\n",
       "      <td>0</td>\n",
       "      <td>315154</td>\n",
       "      <td>8.6625</td>\n",
       "      <td>NaN</td>\n",
       "      <td>S</td>\n",
       "      <td>27.0</td>\n",
       "    </tr>\n",
       "    <tr>\n",
       "      <th>4</th>\n",
       "      <td>896</td>\n",
       "      <td>3</td>\n",
       "      <td>Hirvonen, Mrs. Alexander (Helga E Lindqvist)</td>\n",
       "      <td>female</td>\n",
       "      <td>22.0</td>\n",
       "      <td>1</td>\n",
       "      <td>1</td>\n",
       "      <td>3101298</td>\n",
       "      <td>12.2875</td>\n",
       "      <td>NaN</td>\n",
       "      <td>S</td>\n",
       "      <td>22.0</td>\n",
       "    </tr>\n",
       "  </tbody>\n",
       "</table>\n",
       "</div>"
      ],
      "text/plain": [
       "   PassengerId  Pclass                                          Name     Sex  \\\n",
       "0          892       3                              Kelly, Mr. James    male   \n",
       "1          893       3              Wilkes, Mrs. James (Ellen Needs)  female   \n",
       "2          894       2                     Myles, Mr. Thomas Francis    male   \n",
       "3          895       3                              Wirz, Mr. Albert    male   \n",
       "4          896       3  Hirvonen, Mrs. Alexander (Helga E Lindqvist)  female   \n",
       "\n",
       "    Age  SibSp  Parch   Ticket     Fare Cabin Embarked  Age_2  \n",
       "0  34.5      0      0   330911   7.8292   NaN        Q   34.5  \n",
       "1  47.0      1      0   363272   7.0000   NaN        S   47.0  \n",
       "2  62.0      0      0   240276   9.6875   NaN        Q   62.0  \n",
       "3  27.0      0      0   315154   8.6625   NaN        S   27.0  \n",
       "4  22.0      1      1  3101298  12.2875   NaN        S   22.0  "
      ]
     },
     "execution_count": 3,
     "metadata": {},
     "output_type": "execute_result"
    }
   ],
   "source": [
    "train = pd.read_csv('train.csv')\n",
    "\n",
    "# Data Preprocessing\n",
    "from sklearn.impute import SimpleImputer\n",
    "imputer = SimpleImputer(missing_values = np.nan , strategy='median')\n",
    "Age_2 = train['Age'].values.reshape(1,-1)\n",
    "Age_2 = Age_2.T\n",
    "Age_2 = imputer.fit_transform(Age_2)\n",
    "train['Age_2'] = Age_2\n",
    "train.head()\n",
    "\n",
    "test = pd.read_csv('test.csv')\n",
    "\n",
    "Age_test = test['Age'].values.reshape(1,-1)\n",
    "Age_test = Age_test.T\n",
    "Age_test = imputer.fit_transform(Age_test)\n",
    "test['Age_2'] = Age_test\n",
    "test.head()"
   ]
  },
  {
   "cell_type": "code",
   "execution_count": 4,
   "metadata": {},
   "outputs": [],
   "source": [
    "train['Embarked'].value_counts() # As we see that 'S' value is very frequent, we replace the null with 'S'\n",
    "train.Embarked.fillna('S',inplace = True)"
   ]
  },
  {
   "cell_type": "code",
   "execution_count": 5,
   "metadata": {},
   "outputs": [],
   "source": [
    "test['Fare'].fillna(test['Fare'].mean(),inplace = True)"
   ]
  },
  {
   "cell_type": "code",
   "execution_count": 6,
   "metadata": {},
   "outputs": [],
   "source": [
    "train.drop(['Age','Cabin'], inplace = True, axis = 1)\n",
    "test.drop(['Age','Cabin'], inplace = True, axis = 1)"
   ]
  },
  {
   "cell_type": "code",
   "execution_count": 7,
   "metadata": {},
   "outputs": [
    {
     "data": {
      "text/html": [
       "<div>\n",
       "<style scoped>\n",
       "    .dataframe tbody tr th:only-of-type {\n",
       "        vertical-align: middle;\n",
       "    }\n",
       "\n",
       "    .dataframe tbody tr th {\n",
       "        vertical-align: top;\n",
       "    }\n",
       "\n",
       "    .dataframe thead th {\n",
       "        text-align: right;\n",
       "    }\n",
       "</style>\n",
       "<table border=\"1\" class=\"dataframe\">\n",
       "  <thead>\n",
       "    <tr style=\"text-align: right;\">\n",
       "      <th></th>\n",
       "      <th>PassengerId</th>\n",
       "      <th>Survived</th>\n",
       "      <th>Name</th>\n",
       "      <th>SibSp</th>\n",
       "      <th>Parch</th>\n",
       "      <th>Ticket</th>\n",
       "      <th>Fare</th>\n",
       "      <th>Age_2</th>\n",
       "      <th>Sex_male</th>\n",
       "      <th>Embarked_Q</th>\n",
       "      <th>Embarked_S</th>\n",
       "      <th>Pclass_2</th>\n",
       "      <th>Pclass_3</th>\n",
       "    </tr>\n",
       "  </thead>\n",
       "  <tbody>\n",
       "    <tr>\n",
       "      <th>0</th>\n",
       "      <td>1</td>\n",
       "      <td>0</td>\n",
       "      <td>Braund, Mr. Owen Harris</td>\n",
       "      <td>1</td>\n",
       "      <td>0</td>\n",
       "      <td>A/5 21171</td>\n",
       "      <td>7.2500</td>\n",
       "      <td>22.0</td>\n",
       "      <td>1</td>\n",
       "      <td>0</td>\n",
       "      <td>1</td>\n",
       "      <td>0</td>\n",
       "      <td>1</td>\n",
       "    </tr>\n",
       "    <tr>\n",
       "      <th>1</th>\n",
       "      <td>2</td>\n",
       "      <td>1</td>\n",
       "      <td>Cumings, Mrs. John Bradley (Florence Briggs Th...</td>\n",
       "      <td>1</td>\n",
       "      <td>0</td>\n",
       "      <td>PC 17599</td>\n",
       "      <td>71.2833</td>\n",
       "      <td>38.0</td>\n",
       "      <td>0</td>\n",
       "      <td>0</td>\n",
       "      <td>0</td>\n",
       "      <td>0</td>\n",
       "      <td>0</td>\n",
       "    </tr>\n",
       "    <tr>\n",
       "      <th>2</th>\n",
       "      <td>3</td>\n",
       "      <td>1</td>\n",
       "      <td>Heikkinen, Miss. Laina</td>\n",
       "      <td>0</td>\n",
       "      <td>0</td>\n",
       "      <td>STON/O2. 3101282</td>\n",
       "      <td>7.9250</td>\n",
       "      <td>26.0</td>\n",
       "      <td>0</td>\n",
       "      <td>0</td>\n",
       "      <td>1</td>\n",
       "      <td>0</td>\n",
       "      <td>1</td>\n",
       "    </tr>\n",
       "    <tr>\n",
       "      <th>3</th>\n",
       "      <td>4</td>\n",
       "      <td>1</td>\n",
       "      <td>Futrelle, Mrs. Jacques Heath (Lily May Peel)</td>\n",
       "      <td>1</td>\n",
       "      <td>0</td>\n",
       "      <td>113803</td>\n",
       "      <td>53.1000</td>\n",
       "      <td>35.0</td>\n",
       "      <td>0</td>\n",
       "      <td>0</td>\n",
       "      <td>1</td>\n",
       "      <td>0</td>\n",
       "      <td>0</td>\n",
       "    </tr>\n",
       "    <tr>\n",
       "      <th>4</th>\n",
       "      <td>5</td>\n",
       "      <td>0</td>\n",
       "      <td>Allen, Mr. William Henry</td>\n",
       "      <td>0</td>\n",
       "      <td>0</td>\n",
       "      <td>373450</td>\n",
       "      <td>8.0500</td>\n",
       "      <td>35.0</td>\n",
       "      <td>1</td>\n",
       "      <td>0</td>\n",
       "      <td>1</td>\n",
       "      <td>0</td>\n",
       "      <td>1</td>\n",
       "    </tr>\n",
       "  </tbody>\n",
       "</table>\n",
       "</div>"
      ],
      "text/plain": [
       "   PassengerId  Survived                                               Name  \\\n",
       "0            1         0                            Braund, Mr. Owen Harris   \n",
       "1            2         1  Cumings, Mrs. John Bradley (Florence Briggs Th...   \n",
       "2            3         1                             Heikkinen, Miss. Laina   \n",
       "3            4         1       Futrelle, Mrs. Jacques Heath (Lily May Peel)   \n",
       "4            5         0                           Allen, Mr. William Henry   \n",
       "\n",
       "   SibSp  Parch            Ticket     Fare  Age_2  Sex_male  Embarked_Q  \\\n",
       "0      1      0         A/5 21171   7.2500   22.0         1           0   \n",
       "1      1      0          PC 17599  71.2833   38.0         0           0   \n",
       "2      0      0  STON/O2. 3101282   7.9250   26.0         0           0   \n",
       "3      1      0            113803  53.1000   35.0         0           0   \n",
       "4      0      0            373450   8.0500   35.0         1           0   \n",
       "\n",
       "   Embarked_S  Pclass_2  Pclass_3  \n",
       "0           1         0         1  \n",
       "1           0         0         0  \n",
       "2           1         0         1  \n",
       "3           1         0         0  \n",
       "4           1         0         1  "
      ]
     },
     "execution_count": 7,
     "metadata": {},
     "output_type": "execute_result"
    }
   ],
   "source": [
    "train = pd.get_dummies(train,columns  =['Sex','Embarked','Pclass'], drop_first = True)\n",
    "test = pd.get_dummies(test,columns  =['Sex','Embarked','Pclass'], drop_first = True)\n",
    "train.head()"
   ]
  },
  {
   "cell_type": "code",
   "execution_count": 8,
   "metadata": {},
   "outputs": [],
   "source": [
    "train_target = train.iloc[:,1].values\n",
    "train_predictors = train.iloc[:,6:].values\n",
    "test_predictors = test.iloc[:,5:].values\n",
    "\n",
    "\n",
    "#Feature Scaling\n",
    "from sklearn.preprocessing import StandardScaler\n",
    "sc = StandardScaler()\n",
    "train_predictors = sc.fit_transform(train_predictors)\n",
    "test_predictors = sc.transform(test_predictors)"
   ]
  },
  {
   "cell_type": "code",
   "execution_count": 23,
   "metadata": {},
   "outputs": [
    {
     "data": {
      "text/plain": [
       "7"
      ]
     },
     "execution_count": 23,
     "metadata": {},
     "output_type": "execute_result"
    }
   ],
   "source": [
    "X_train, X_test, y_train, y_test = train_test_split(train_predictors, train_target, test_size = 0.2, random_state = 0)\n",
    "n_cols = train_predictors.shape[1]\n",
    "n_cols"
   ]
  },
  {
   "cell_type": "code",
   "execution_count": 35,
   "metadata": {},
   "outputs": [],
   "source": [
    "def build_model(hp):\n",
    "    \n",
    "    model = keras.Sequential([keras.layers.Dense(\n",
    "            units = hp.Int('Dense_1_unit', min_value = 100, max_value = 150, step = 10),\n",
    "            activation = tf.keras.layers.LeakyReLU(alpha= 0.3),\n",
    "            input_shape = (n_cols,)\n",
    "        ),\n",
    "        keras.layers.Dropout(0.5),\n",
    "        keras.layers.Dense(\n",
    "            units = hp.Int('Dense_1_unit', min_value = 50, max_value = 100, step = 10),\n",
    "            activation = tf.keras.layers.LeakyReLU(alpha= 0.3)\n",
    "        ),\n",
    "        keras.layers.Dropout(0.5),\n",
    "        keras.layers.Dense(\n",
    "            units = hp.Int('Dense_3_unit', min_value = 25, max_value = 50),\n",
    "            activation = tf.keras.layers.LeakyReLU(alpha= 0.3)\n",
    "        ),\n",
    "        keras.layers.Dense(1, activation = 'sigmoid')\n",
    "    ])\n",
    "\n",
    "    model.compile(optimizer = keras.optimizers.Adam(hp.Choice('learning_rate', values = [1e-2,1e-3])),\n",
    "                loss = 'binary_crossentropy',\n",
    "                metrics = ['accuracy'])\n",
    "    \n",
    "    return model"
   ]
  },
  {
   "cell_type": "code",
   "execution_count": 36,
   "metadata": {},
   "outputs": [],
   "source": [
    "from kerastuner import RandomSearch\n",
    "from kerastuner.engine.hyperparameters import HyperParameters"
   ]
  },
  {
   "cell_type": "code",
   "execution_count": 37,
   "metadata": {},
   "outputs": [],
   "source": [
    "tuner_search = RandomSearch(build_model, objective = 'val_accuracy', max_trials = 5, project_name = 'hh_1')"
   ]
  },
  {
   "cell_type": "code",
   "execution_count": 38,
   "metadata": {},
   "outputs": [
    {
     "name": "stdout",
     "output_type": "stream",
     "text": [
      "Epoch 1/3\n",
      "26/26 [==============================] - ETA: 0s - loss: 0.6851 - accuracy: 0.59 - ETA: 0s - loss: 0.5335 - accuracy: 0.76 - 1s 21ms/step - loss: 0.5238 - accuracy: 0.7690 - val_loss: 0.4995 - val_accuracy: 0.8111\n",
      "Epoch 2/3\n",
      "26/26 [==============================] - ETA: 0s - loss: 0.2751 - accuracy: 0.93 - ETA: 0s - loss: 0.5228 - accuracy: 0.77 - 0s 4ms/step - loss: 0.5101 - accuracy: 0.7765 - val_loss: 0.4449 - val_accuracy: 0.7778\n",
      "Epoch 3/3\n",
      "26/26 [==============================] - ETA: 0s - loss: 0.3752 - accuracy: 0.78 - ETA: 0s - loss: 0.4874 - accuracy: 0.79 - 0s 12ms/step - loss: 0.4693 - accuracy: 0.7978 - val_loss: 0.4189 - val_accuracy: 0.8222\n"
     ]
    },
    {
     "data": {
      "text/html": [
       "<span style=\"color:#4527A0\"><h1 style=\"font-size:18px\">Trial complete</h1></span>"
      ],
      "text/plain": [
       "<IPython.core.display.HTML object>"
      ]
     },
     "metadata": {},
     "output_type": "display_data"
    },
    {
     "data": {
      "text/html": [
       "<span style=\"color:#4527A0\"><h1 style=\"font-size:18px\">Trial summary</h1></span>"
      ],
      "text/plain": [
       "<IPython.core.display.HTML object>"
      ]
     },
     "metadata": {},
     "output_type": "display_data"
    },
    {
     "data": {
      "text/html": [
       "<span style=\"color:cyan\"> |-Trial ID: a08574d0b30320a56015ec31c1d352ab</span>"
      ],
      "text/plain": [
       "<IPython.core.display.HTML object>"
      ]
     },
     "metadata": {},
     "output_type": "display_data"
    },
    {
     "data": {
      "text/html": [
       "<span style=\"color:cyan\"> |-Score: 0.8222222328186035</span>"
      ],
      "text/plain": [
       "<IPython.core.display.HTML object>"
      ]
     },
     "metadata": {},
     "output_type": "display_data"
    },
    {
     "data": {
      "text/html": [
       "<span style=\"color:cyan\"> |-Best step: 0</span>"
      ],
      "text/plain": [
       "<IPython.core.display.HTML object>"
      ]
     },
     "metadata": {},
     "output_type": "display_data"
    },
    {
     "data": {
      "text/html": [
       "<span style=\"color:#7E57C2\"><h2 style=\"font-size:16px\">Hyperparameters:</h2></span>"
      ],
      "text/plain": [
       "<IPython.core.display.HTML object>"
      ]
     },
     "metadata": {},
     "output_type": "display_data"
    },
    {
     "data": {
      "text/html": [
       "<span style=\"color:cyan\"> |-Dense_1_unit: 120</span>"
      ],
      "text/plain": [
       "<IPython.core.display.HTML object>"
      ]
     },
     "metadata": {},
     "output_type": "display_data"
    },
    {
     "data": {
      "text/html": [
       "<span style=\"color:blue\"> |-Dense_3_unit: 28</span>"
      ],
      "text/plain": [
       "<IPython.core.display.HTML object>"
      ]
     },
     "metadata": {},
     "output_type": "display_data"
    },
    {
     "data": {
      "text/html": [
       "<span style=\"color:cyan\"> |-learning_rate: 0.01</span>"
      ],
      "text/plain": [
       "<IPython.core.display.HTML object>"
      ]
     },
     "metadata": {},
     "output_type": "display_data"
    },
    {
     "name": "stdout",
     "output_type": "stream",
     "text": [
      "Epoch 1/3\n",
      "26/26 [==============================] - ETA: 0s - loss: 0.7069 - accuracy: 0.43 - ETA: 0s - loss: 0.5481 - accuracy: 0.71 - 1s 26ms/step - loss: 0.5535 - accuracy: 0.7353 - val_loss: 0.4600 - val_accuracy: 0.8333\n",
      "Epoch 2/3\n",
      "26/26 [==============================] - ETA: 0s - loss: 0.4974 - accuracy: 0.75 - ETA: 0s - loss: 0.4855 - accuracy: 0.77 - 0s 5ms/step - loss: 0.4889 - accuracy: 0.7753 - val_loss: 0.4411 - val_accuracy: 0.7889\n",
      "Epoch 3/3\n",
      "26/26 [==============================] - ETA: 0s - loss: 0.7194 - accuracy: 0.71 - ETA: 0s - loss: 0.4864 - accuracy: 0.78 - 0s 5ms/step - loss: 0.4756 - accuracy: 0.7940 - val_loss: 0.4265 - val_accuracy: 0.8000\n"
     ]
    },
    {
     "data": {
      "text/html": [
       "<span style=\"color:#4527A0\"><h1 style=\"font-size:18px\">Trial complete</h1></span>"
      ],
      "text/plain": [
       "<IPython.core.display.HTML object>"
      ]
     },
     "metadata": {},
     "output_type": "display_data"
    },
    {
     "data": {
      "text/html": [
       "<span style=\"color:#4527A0\"><h1 style=\"font-size:18px\">Trial summary</h1></span>"
      ],
      "text/plain": [
       "<IPython.core.display.HTML object>"
      ]
     },
     "metadata": {},
     "output_type": "display_data"
    },
    {
     "data": {
      "text/html": [
       "<span style=\"color:cyan\"> |-Trial ID: 42c6adda8c79007a8ad6f2781f8dddf2</span>"
      ],
      "text/plain": [
       "<IPython.core.display.HTML object>"
      ]
     },
     "metadata": {},
     "output_type": "display_data"
    },
    {
     "data": {
      "text/html": [
       "<span style=\"color:cyan\"> |-Score: 0.8333333134651184</span>"
      ],
      "text/plain": [
       "<IPython.core.display.HTML object>"
      ]
     },
     "metadata": {},
     "output_type": "display_data"
    },
    {
     "data": {
      "text/html": [
       "<span style=\"color:cyan\"> |-Best step: 0</span>"
      ],
      "text/plain": [
       "<IPython.core.display.HTML object>"
      ]
     },
     "metadata": {},
     "output_type": "display_data"
    },
    {
     "data": {
      "text/html": [
       "<span style=\"color:#7E57C2\"><h2 style=\"font-size:16px\">Hyperparameters:</h2></span>"
      ],
      "text/plain": [
       "<IPython.core.display.HTML object>"
      ]
     },
     "metadata": {},
     "output_type": "display_data"
    },
    {
     "data": {
      "text/html": [
       "<span style=\"color:cyan\"> |-Dense_1_unit: 140</span>"
      ],
      "text/plain": [
       "<IPython.core.display.HTML object>"
      ]
     },
     "metadata": {},
     "output_type": "display_data"
    },
    {
     "data": {
      "text/html": [
       "<span style=\"color:blue\"> |-Dense_3_unit: 49</span>"
      ],
      "text/plain": [
       "<IPython.core.display.HTML object>"
      ]
     },
     "metadata": {},
     "output_type": "display_data"
    },
    {
     "data": {
      "text/html": [
       "<span style=\"color:cyan\"> |-learning_rate: 0.01</span>"
      ],
      "text/plain": [
       "<IPython.core.display.HTML object>"
      ]
     },
     "metadata": {},
     "output_type": "display_data"
    },
    {
     "name": "stdout",
     "output_type": "stream",
     "text": [
      "Epoch 1/3\n",
      "26/26 [==============================] - ETA: 0s - loss: 0.7092 - accuracy: 0.59 - ETA: 0s - loss: 0.5519 - accuracy: 0.74 - 0s 19ms/step - loss: 0.5385 - accuracy: 0.7478 - val_loss: 0.4182 - val_accuracy: 0.8111\n",
      "Epoch 2/3\n",
      "26/26 [==============================] - ETA: 0s - loss: 0.5328 - accuracy: 0.68 - ETA: 0s - loss: 0.4629 - accuracy: 0.77 - 0s 5ms/step - loss: 0.5028 - accuracy: 0.7628 - val_loss: 0.4551 - val_accuracy: 0.7778\n",
      "Epoch 3/3\n",
      "26/26 [==============================] - ETA: 0s - loss: 0.5107 - accuracy: 0.71 - ETA: 0s - loss: 0.4795 - accuracy: 0.77 - 0s 14ms/step - loss: 0.4811 - accuracy: 0.7853 - val_loss: 0.4185 - val_accuracy: 0.8556\n"
     ]
    },
    {
     "data": {
      "text/html": [
       "<span style=\"color:#4527A0\"><h1 style=\"font-size:18px\">Trial complete</h1></span>"
      ],
      "text/plain": [
       "<IPython.core.display.HTML object>"
      ]
     },
     "metadata": {},
     "output_type": "display_data"
    },
    {
     "data": {
      "text/html": [
       "<span style=\"color:#4527A0\"><h1 style=\"font-size:18px\">Trial summary</h1></span>"
      ],
      "text/plain": [
       "<IPython.core.display.HTML object>"
      ]
     },
     "metadata": {},
     "output_type": "display_data"
    },
    {
     "data": {
      "text/html": [
       "<span style=\"color:cyan\"> |-Trial ID: 88f37a55a2157646b74d064c7e548b18</span>"
      ],
      "text/plain": [
       "<IPython.core.display.HTML object>"
      ]
     },
     "metadata": {},
     "output_type": "display_data"
    },
    {
     "data": {
      "text/html": [
       "<span style=\"color:cyan\"> |-Score: 0.855555534362793</span>"
      ],
      "text/plain": [
       "<IPython.core.display.HTML object>"
      ]
     },
     "metadata": {},
     "output_type": "display_data"
    },
    {
     "data": {
      "text/html": [
       "<span style=\"color:cyan\"> |-Best step: 0</span>"
      ],
      "text/plain": [
       "<IPython.core.display.HTML object>"
      ]
     },
     "metadata": {},
     "output_type": "display_data"
    },
    {
     "data": {
      "text/html": [
       "<span style=\"color:#7E57C2\"><h2 style=\"font-size:16px\">Hyperparameters:</h2></span>"
      ],
      "text/plain": [
       "<IPython.core.display.HTML object>"
      ]
     },
     "metadata": {},
     "output_type": "display_data"
    },
    {
     "data": {
      "text/html": [
       "<span style=\"color:cyan\"> |-Dense_1_unit: 120</span>"
      ],
      "text/plain": [
       "<IPython.core.display.HTML object>"
      ]
     },
     "metadata": {},
     "output_type": "display_data"
    },
    {
     "data": {
      "text/html": [
       "<span style=\"color:blue\"> |-Dense_3_unit: 29</span>"
      ],
      "text/plain": [
       "<IPython.core.display.HTML object>"
      ]
     },
     "metadata": {},
     "output_type": "display_data"
    },
    {
     "data": {
      "text/html": [
       "<span style=\"color:cyan\"> |-learning_rate: 0.01</span>"
      ],
      "text/plain": [
       "<IPython.core.display.HTML object>"
      ]
     },
     "metadata": {},
     "output_type": "display_data"
    },
    {
     "name": "stdout",
     "output_type": "stream",
     "text": [
      "Epoch 1/3\n",
      "26/26 [==============================] - ETA: 0s - loss: 0.8392 - accuracy: 0.40 - ETA: 0s - loss: 0.5501 - accuracy: 0.72 - 1s 20ms/step - loss: 0.5379 - accuracy: 0.7416 - val_loss: 0.4606 - val_accuracy: 0.8111\n",
      "Epoch 2/3\n",
      "26/26 [==============================] - ETA: 0s - loss: 0.4430 - accuracy: 0.84 - ETA: 0s - loss: 0.5019 - accuracy: 0.78 - 0s 13ms/step - loss: 0.5008 - accuracy: 0.7853 - val_loss: 0.4353 - val_accuracy: 0.8222\n",
      "Epoch 3/3\n",
      "26/26 [==============================] - ETA: 0s - loss: 0.4413 - accuracy: 0.78 - ETA: 0s - loss: 0.4842 - accuracy: 0.79 - 0s 12ms/step - loss: 0.4657 - accuracy: 0.8052 - val_loss: 0.4165 - val_accuracy: 0.8333\n"
     ]
    },
    {
     "data": {
      "text/html": [
       "<span style=\"color:#4527A0\"><h1 style=\"font-size:18px\">Trial complete</h1></span>"
      ],
      "text/plain": [
       "<IPython.core.display.HTML object>"
      ]
     },
     "metadata": {},
     "output_type": "display_data"
    },
    {
     "data": {
      "text/html": [
       "<span style=\"color:#4527A0\"><h1 style=\"font-size:18px\">Trial summary</h1></span>"
      ],
      "text/plain": [
       "<IPython.core.display.HTML object>"
      ]
     },
     "metadata": {},
     "output_type": "display_data"
    },
    {
     "data": {
      "text/html": [
       "<span style=\"color:cyan\"> |-Trial ID: 37b48a2df7214b63c69d66b1e8cb8c92</span>"
      ],
      "text/plain": [
       "<IPython.core.display.HTML object>"
      ]
     },
     "metadata": {},
     "output_type": "display_data"
    },
    {
     "data": {
      "text/html": [
       "<span style=\"color:cyan\"> |-Score: 0.8333333134651184</span>"
      ],
      "text/plain": [
       "<IPython.core.display.HTML object>"
      ]
     },
     "metadata": {},
     "output_type": "display_data"
    },
    {
     "data": {
      "text/html": [
       "<span style=\"color:cyan\"> |-Best step: 0</span>"
      ],
      "text/plain": [
       "<IPython.core.display.HTML object>"
      ]
     },
     "metadata": {},
     "output_type": "display_data"
    },
    {
     "data": {
      "text/html": [
       "<span style=\"color:#7E57C2\"><h2 style=\"font-size:16px\">Hyperparameters:</h2></span>"
      ],
      "text/plain": [
       "<IPython.core.display.HTML object>"
      ]
     },
     "metadata": {},
     "output_type": "display_data"
    },
    {
     "data": {
      "text/html": [
       "<span style=\"color:cyan\"> |-Dense_1_unit: 110</span>"
      ],
      "text/plain": [
       "<IPython.core.display.HTML object>"
      ]
     },
     "metadata": {},
     "output_type": "display_data"
    },
    {
     "data": {
      "text/html": [
       "<span style=\"color:blue\"> |-Dense_3_unit: 43</span>"
      ],
      "text/plain": [
       "<IPython.core.display.HTML object>"
      ]
     },
     "metadata": {},
     "output_type": "display_data"
    },
    {
     "data": {
      "text/html": [
       "<span style=\"color:cyan\"> |-learning_rate: 0.01</span>"
      ],
      "text/plain": [
       "<IPython.core.display.HTML object>"
      ]
     },
     "metadata": {},
     "output_type": "display_data"
    },
    {
     "name": "stdout",
     "output_type": "stream",
     "text": [
      "Epoch 1/3\n",
      "26/26 [==============================] - ETA: 0s - loss: 0.7100 - accuracy: 0.59 - ETA: 0s - loss: 0.6000 - accuracy: 0.71 - 1s 24ms/step - loss: 0.5872 - accuracy: 0.7191 - val_loss: 0.4698 - val_accuracy: 0.7889\n",
      "Epoch 2/3\n",
      "26/26 [==============================] - ETA: 0s - loss: 0.4741 - accuracy: 0.81 - ETA: 0s - loss: 0.4911 - accuracy: 0.77 - 0s 5ms/step - loss: 0.4728 - accuracy: 0.7903 - val_loss: 0.4536 - val_accuracy: 0.7778\n",
      "Epoch 3/3\n",
      "26/26 [==============================] - ETA: 0s - loss: 0.4322 - accuracy: 0.81 - ETA: 0s - loss: 0.4848 - accuracy: 0.78 - 0s 7ms/step - loss: 0.4896 - accuracy: 0.7878 - val_loss: 0.4449 - val_accuracy: 0.7778\n"
     ]
    },
    {
     "data": {
      "text/html": [
       "<span style=\"color:#4527A0\"><h1 style=\"font-size:18px\">Trial complete</h1></span>"
      ],
      "text/plain": [
       "<IPython.core.display.HTML object>"
      ]
     },
     "metadata": {},
     "output_type": "display_data"
    },
    {
     "data": {
      "text/html": [
       "<span style=\"color:#4527A0\"><h1 style=\"font-size:18px\">Trial summary</h1></span>"
      ],
      "text/plain": [
       "<IPython.core.display.HTML object>"
      ]
     },
     "metadata": {},
     "output_type": "display_data"
    },
    {
     "data": {
      "text/html": [
       "<span style=\"color:cyan\"> |-Trial ID: c158fc4d39f48703478a402b3e46c285</span>"
      ],
      "text/plain": [
       "<IPython.core.display.HTML object>"
      ]
     },
     "metadata": {},
     "output_type": "display_data"
    },
    {
     "data": {
      "text/html": [
       "<span style=\"color:cyan\"> |-Score: 0.7888888716697693</span>"
      ],
      "text/plain": [
       "<IPython.core.display.HTML object>"
      ]
     },
     "metadata": {},
     "output_type": "display_data"
    },
    {
     "data": {
      "text/html": [
       "<span style=\"color:cyan\"> |-Best step: 0</span>"
      ],
      "text/plain": [
       "<IPython.core.display.HTML object>"
      ]
     },
     "metadata": {},
     "output_type": "display_data"
    },
    {
     "data": {
      "text/html": [
       "<span style=\"color:#7E57C2\"><h2 style=\"font-size:16px\">Hyperparameters:</h2></span>"
      ],
      "text/plain": [
       "<IPython.core.display.HTML object>"
      ]
     },
     "metadata": {},
     "output_type": "display_data"
    },
    {
     "data": {
      "text/html": [
       "<span style=\"color:cyan\"> |-Dense_1_unit: 110</span>"
      ],
      "text/plain": [
       "<IPython.core.display.HTML object>"
      ]
     },
     "metadata": {},
     "output_type": "display_data"
    },
    {
     "data": {
      "text/html": [
       "<span style=\"color:blue\"> |-Dense_3_unit: 41</span>"
      ],
      "text/plain": [
       "<IPython.core.display.HTML object>"
      ]
     },
     "metadata": {},
     "output_type": "display_data"
    },
    {
     "data": {
      "text/html": [
       "<span style=\"color:cyan\"> |-learning_rate: 0.001</span>"
      ],
      "text/plain": [
       "<IPython.core.display.HTML object>"
      ]
     },
     "metadata": {},
     "output_type": "display_data"
    },
    {
     "name": "stdout",
     "output_type": "stream",
     "text": [
      "INFO:tensorflow:Oracle triggered exit\n"
     ]
    }
   ],
   "source": [
    "tuner_search.search(train_predictors, train_target, epochs = 3, validation_split = 0.1)"
   ]
  },
  {
   "cell_type": "code",
   "execution_count": 39,
   "metadata": {},
   "outputs": [],
   "source": [
    "model = tuner_search.get_best_models(num_models = 1)[0]"
   ]
  },
  {
   "cell_type": "code",
   "execution_count": 40,
   "metadata": {},
   "outputs": [
    {
     "name": "stdout",
     "output_type": "stream",
     "text": [
      "Model: \"sequential\"\n",
      "_________________________________________________________________\n",
      "Layer (type)                 Output Shape              Param #   \n",
      "=================================================================\n",
      "dense (Dense)                (None, 120)               960       \n",
      "_________________________________________________________________\n",
      "dropout (Dropout)            (None, 120)               0         \n",
      "_________________________________________________________________\n",
      "dense_1 (Dense)              (None, 120)               14520     \n",
      "_________________________________________________________________\n",
      "dropout_1 (Dropout)          (None, 120)               0         \n",
      "_________________________________________________________________\n",
      "dense_2 (Dense)              (None, 29)                3509      \n",
      "_________________________________________________________________\n",
      "dense_3 (Dense)              (None, 1)                 30        \n",
      "=================================================================\n",
      "Total params: 19,019\n",
      "Trainable params: 19,019\n",
      "Non-trainable params: 0\n",
      "_________________________________________________________________\n"
     ]
    }
   ],
   "source": [
    "model.summary()"
   ]
  },
  {
   "cell_type": "code",
   "execution_count": 41,
   "metadata": {},
   "outputs": [
    {
     "name": "stdout",
     "output_type": "stream",
     "text": [
      "Epoch 4/100\n",
      "26/26 [==============================] - ETA: 0s - loss: 0.3272 - accuracy: 0.84 - ETA: 0s - loss: 0.4716 - accuracy: 0.78 - 0s 9ms/step - loss: 0.4661 - accuracy: 0.7853 - val_loss: 0.4250 - val_accuracy: 0.8333\n",
      "Epoch 5/100\n",
      "26/26 [==============================] - ETA: 0s - loss: 0.3217 - accuracy: 0.81 - ETA: 0s - loss: 0.4306 - accuracy: 0.80 - 0s 5ms/step - loss: 0.4555 - accuracy: 0.7878 - val_loss: 0.4290 - val_accuracy: 0.8333\n",
      "Epoch 6/100\n",
      "26/26 [==============================] - ETA: 0s - loss: 0.6261 - accuracy: 0.68 - ETA: 0s - loss: 0.5093 - accuracy: 0.77 - 0s 5ms/step - loss: 0.4797 - accuracy: 0.7878 - val_loss: 0.4399 - val_accuracy: 0.8111\n",
      "Epoch 7/100\n",
      "26/26 [==============================] - ETA: 0s - loss: 0.2737 - accuracy: 0.87 - ETA: 0s - loss: 0.4873 - accuracy: 0.79 - 0s 5ms/step - loss: 0.4691 - accuracy: 0.8052 - val_loss: 0.4295 - val_accuracy: 0.8000\n",
      "Epoch 8/100\n",
      "26/26 [==============================] - ETA: 0s - loss: 0.3324 - accuracy: 0.90 - ETA: 0s - loss: 0.4981 - accuracy: 0.79 - 0s 5ms/step - loss: 0.4713 - accuracy: 0.8115 - val_loss: 0.4170 - val_accuracy: 0.8444\n",
      "Epoch 9/100\n",
      "26/26 [==============================] - ETA: 0s - loss: 0.3564 - accuracy: 0.84 - ETA: 0s - loss: 0.4528 - accuracy: 0.81 - 0s 5ms/step - loss: 0.4564 - accuracy: 0.8102 - val_loss: 0.4175 - val_accuracy: 0.8333\n",
      "Epoch 10/100\n",
      "26/26 [==============================] - ETA: 0s - loss: 0.3504 - accuracy: 0.90 - ETA: 0s - loss: 0.4242 - accuracy: 0.80 - 0s 5ms/step - loss: 0.4490 - accuracy: 0.8027 - val_loss: 0.4162 - val_accuracy: 0.8333\n",
      "Epoch 11/100\n",
      "26/26 [==============================] - ETA: 0s - loss: 0.3219 - accuracy: 0.90 - ETA: 0s - loss: 0.4441 - accuracy: 0.79 - 0s 5ms/step - loss: 0.4630 - accuracy: 0.7953 - val_loss: 0.4267 - val_accuracy: 0.8333\n",
      "Epoch 12/100\n",
      "26/26 [==============================] - ETA: 0s - loss: 0.3317 - accuracy: 0.90 - ETA: 0s - loss: 0.4412 - accuracy: 0.82 - 0s 5ms/step - loss: 0.4491 - accuracy: 0.8065 - val_loss: 0.3955 - val_accuracy: 0.8556\n",
      "Epoch 13/100\n",
      "26/26 [==============================] - ETA: 0s - loss: 0.2357 - accuracy: 0.90 - ETA: 0s - loss: 0.4622 - accuracy: 0.79 - 0s 5ms/step - loss: 0.4604 - accuracy: 0.8090 - val_loss: 0.4109 - val_accuracy: 0.8444\n",
      "Epoch 14/100\n",
      "26/26 [==============================] - ETA: 0s - loss: 0.4996 - accuracy: 0.75 - ETA: 0s - loss: 0.4342 - accuracy: 0.80 - 0s 5ms/step - loss: 0.4448 - accuracy: 0.7990 - val_loss: 0.4168 - val_accuracy: 0.8444\n",
      "Epoch 15/100\n",
      "26/26 [==============================] - ETA: 0s - loss: 0.4826 - accuracy: 0.78 - ETA: 0s - loss: 0.4556 - accuracy: 0.80 - 0s 5ms/step - loss: 0.4406 - accuracy: 0.8065 - val_loss: 0.4007 - val_accuracy: 0.8222\n",
      "Epoch 16/100\n",
      "26/26 [==============================] - ETA: 0s - loss: 0.4083 - accuracy: 0.87 - ETA: 0s - loss: 0.3958 - accuracy: 0.82 - 0s 5ms/step - loss: 0.4351 - accuracy: 0.8127 - val_loss: 0.4188 - val_accuracy: 0.8222\n",
      "Epoch 17/100\n",
      "26/26 [==============================] - ETA: 0s - loss: 0.5489 - accuracy: 0.75 - ETA: 0s - loss: 0.4087 - accuracy: 0.81 - 0s 5ms/step - loss: 0.4518 - accuracy: 0.7990 - val_loss: 0.4370 - val_accuracy: 0.8000\n",
      "Epoch 18/100\n",
      "26/26 [==============================] - ETA: 0s - loss: 0.4642 - accuracy: 0.81 - ETA: 0s - loss: 0.4201 - accuracy: 0.82 - ETA: 0s - loss: 0.4549 - accuracy: 0.80 - 0s 7ms/step - loss: 0.4519 - accuracy: 0.8065 - val_loss: 0.4205 - val_accuracy: 0.8222\n",
      "Epoch 19/100\n",
      "26/26 [==============================] - ETA: 0s - loss: 0.4114 - accuracy: 0.84 - ETA: 0s - loss: 0.4599 - accuracy: 0.79 - 0s 5ms/step - loss: 0.4638 - accuracy: 0.7978 - val_loss: 0.4020 - val_accuracy: 0.8222\n",
      "Epoch 20/100\n",
      "26/26 [==============================] - ETA: 0s - loss: 0.4876 - accuracy: 0.71 - ETA: 0s - loss: 0.4486 - accuracy: 0.80 - 0s 5ms/step - loss: 0.4602 - accuracy: 0.7978 - val_loss: 0.4111 - val_accuracy: 0.8333\n",
      "Epoch 21/100\n",
      "26/26 [==============================] - ETA: 0s - loss: 0.4330 - accuracy: 0.87 - ETA: 0s - loss: 0.4632 - accuracy: 0.79 - 0s 5ms/step - loss: 0.4553 - accuracy: 0.8002 - val_loss: 0.3980 - val_accuracy: 0.8222\n",
      "Epoch 22/100\n",
      "26/26 [==============================] - ETA: 0s - loss: 0.2365 - accuracy: 0.90 - ETA: 0s - loss: 0.4416 - accuracy: 0.81 - 0s 4ms/step - loss: 0.4389 - accuracy: 0.8077 - val_loss: 0.4103 - val_accuracy: 0.8333\n",
      "Epoch 23/100\n",
      "26/26 [==============================] - ETA: 0s - loss: 0.4300 - accuracy: 0.81 - ETA: 0s - loss: 0.4715 - accuracy: 0.80 - 0s 6ms/step - loss: 0.4614 - accuracy: 0.8152 - val_loss: 0.4079 - val_accuracy: 0.8222\n",
      "Epoch 24/100\n",
      "26/26 [==============================] - ETA: 0s - loss: 0.4193 - accuracy: 0.81 - ETA: 0s - loss: 0.4520 - accuracy: 0.80 - ETA: 0s - loss: 0.4438 - accuracy: 0.81 - 0s 7ms/step - loss: 0.4438 - accuracy: 0.8140 - val_loss: 0.4112 - val_accuracy: 0.8222\n",
      "Epoch 25/100\n",
      "26/26 [==============================] - ETA: 0s - loss: 0.5338 - accuracy: 0.71 - ETA: 0s - loss: 0.4616 - accuracy: 0.80 - 0s 5ms/step - loss: 0.4392 - accuracy: 0.8140 - val_loss: 0.4071 - val_accuracy: 0.8333\n",
      "Epoch 26/100\n",
      "26/26 [==============================] - ETA: 0s - loss: 0.3039 - accuracy: 0.87 - ETA: 0s - loss: 0.3983 - accuracy: 0.82 - 0s 5ms/step - loss: 0.4336 - accuracy: 0.8077 - val_loss: 0.4280 - val_accuracy: 0.8222\n",
      "Epoch 27/100\n",
      "26/26 [==============================] - ETA: 0s - loss: 0.3402 - accuracy: 0.87 - ETA: 0s - loss: 0.4314 - accuracy: 0.81 - ETA: 0s - loss: 0.4490 - accuracy: 0.81 - 0s 6ms/step - loss: 0.4489 - accuracy: 0.8102 - val_loss: 0.4183 - val_accuracy: 0.8111\n",
      "Epoch 28/100\n",
      "26/26 [==============================] - ETA: 0s - loss: 0.5321 - accuracy: 0.75 - ETA: 0s - loss: 0.4522 - accuracy: 0.81 - 0s 5ms/step - loss: 0.4567 - accuracy: 0.8077 - val_loss: 0.3984 - val_accuracy: 0.8333\n",
      "Epoch 29/100\n",
      "26/26 [==============================] - ETA: 0s - loss: 0.2298 - accuracy: 0.93 - ETA: 0s - loss: 0.4444 - accuracy: 0.79 - 0s 5ms/step - loss: 0.4382 - accuracy: 0.8102 - val_loss: 0.4018 - val_accuracy: 0.8222\n",
      "Epoch 30/100\n",
      "26/26 [==============================] - ETA: 0s - loss: 0.4468 - accuracy: 0.87 - ETA: 0s - loss: 0.4151 - accuracy: 0.83 - 0s 5ms/step - loss: 0.4487 - accuracy: 0.8127 - val_loss: 0.4340 - val_accuracy: 0.8333\n",
      "Epoch 31/100\n",
      "26/26 [==============================] - ETA: 0s - loss: 0.4549 - accuracy: 0.81 - ETA: 0s - loss: 0.4565 - accuracy: 0.80 - 0s 6ms/step - loss: 0.4736 - accuracy: 0.7965 - val_loss: 0.4708 - val_accuracy: 0.8111\n",
      "Epoch 32/100\n",
      "26/26 [==============================] - ETA: 0s - loss: 0.4826 - accuracy: 0.90 - ETA: 0s - loss: 0.4960 - accuracy: 0.78 - 0s 5ms/step - loss: 0.4945 - accuracy: 0.7928 - val_loss: 0.4232 - val_accuracy: 0.8333\n",
      "Epoch 33/100\n",
      "26/26 [==============================] - ETA: 0s - loss: 0.4261 - accuracy: 0.84 - ETA: 0s - loss: 0.4564 - accuracy: 0.81 - 0s 5ms/step - loss: 0.4574 - accuracy: 0.8140 - val_loss: 0.3961 - val_accuracy: 0.8222\n",
      "Epoch 34/100\n",
      "26/26 [==============================] - ETA: 0s - loss: 0.6925 - accuracy: 0.62 - ETA: 0s - loss: 0.4462 - accuracy: 0.81 - 0s 5ms/step - loss: 0.4407 - accuracy: 0.8165 - val_loss: 0.3914 - val_accuracy: 0.8222\n",
      "Epoch 35/100\n",
      "26/26 [==============================] - ETA: 0s - loss: 0.3853 - accuracy: 0.84 - ETA: 0s - loss: 0.4414 - accuracy: 0.81 - 0s 5ms/step - loss: 0.4484 - accuracy: 0.8040 - val_loss: 0.3981 - val_accuracy: 0.8444\n",
      "Epoch 36/100\n",
      "26/26 [==============================] - ETA: 0s - loss: 0.4571 - accuracy: 0.75 - ETA: 0s - loss: 0.4120 - accuracy: 0.83 - 0s 6ms/step - loss: 0.4351 - accuracy: 0.8152 - val_loss: 0.3946 - val_accuracy: 0.8444\n",
      "Epoch 37/100\n",
      "26/26 [==============================] - ETA: 0s - loss: 0.5088 - accuracy: 0.75 - ETA: 0s - loss: 0.4378 - accuracy: 0.81 - 0s 5ms/step - loss: 0.4315 - accuracy: 0.8140 - val_loss: 0.3924 - val_accuracy: 0.8333\n",
      "Epoch 38/100\n",
      "26/26 [==============================] - ETA: 0s - loss: 0.6437 - accuracy: 0.65 - ETA: 0s - loss: 0.4218 - accuracy: 0.83 - 0s 5ms/step - loss: 0.4456 - accuracy: 0.8165 - val_loss: 0.4041 - val_accuracy: 0.8444\n",
      "Epoch 39/100\n",
      "26/26 [==============================] - ETA: 0s - loss: 0.4591 - accuracy: 0.78 - ETA: 0s - loss: 0.4531 - accuracy: 0.80 - 0s 5ms/step - loss: 0.4510 - accuracy: 0.8152 - val_loss: 0.4103 - val_accuracy: 0.8333\n"
     ]
    },
    {
     "name": "stdout",
     "output_type": "stream",
     "text": [
      "Epoch 40/100\n",
      "26/26 [==============================] - ETA: 0s - loss: 0.4933 - accuracy: 0.68 - ETA: 0s - loss: 0.4338 - accuracy: 0.78 - 0s 5ms/step - loss: 0.4452 - accuracy: 0.7965 - val_loss: 0.4062 - val_accuracy: 0.8333\n",
      "Epoch 41/100\n",
      "26/26 [==============================] - ETA: 0s - loss: 0.4288 - accuracy: 0.81 - ETA: 0s - loss: 0.4490 - accuracy: 0.82 - 0s 4ms/step - loss: 0.4508 - accuracy: 0.8165 - val_loss: 0.4009 - val_accuracy: 0.8333\n",
      "Epoch 42/100\n",
      "26/26 [==============================] - ETA: 0s - loss: 0.4665 - accuracy: 0.75 - ETA: 0s - loss: 0.4324 - accuracy: 0.80 - 0s 4ms/step - loss: 0.4377 - accuracy: 0.8065 - val_loss: 0.4174 - val_accuracy: 0.8333\n",
      "Epoch 43/100\n",
      "26/26 [==============================] - ETA: 0s - loss: 0.4799 - accuracy: 0.71 - ETA: 0s - loss: 0.4895 - accuracy: 0.77 - 0s 4ms/step - loss: 0.4713 - accuracy: 0.7903 - val_loss: 0.4148 - val_accuracy: 0.8222\n",
      "Epoch 44/100\n",
      "26/26 [==============================] - ETA: 0s - loss: 0.3845 - accuracy: 0.84 - ETA: 0s - loss: 0.4487 - accuracy: 0.80 - 0s 4ms/step - loss: 0.4411 - accuracy: 0.8077 - val_loss: 0.4063 - val_accuracy: 0.8444\n",
      "Epoch 45/100\n",
      "26/26 [==============================] - ETA: 0s - loss: 0.5131 - accuracy: 0.81 - ETA: 0s - loss: 0.4687 - accuracy: 0.82 - 0s 5ms/step - loss: 0.4403 - accuracy: 0.8190 - val_loss: 0.3835 - val_accuracy: 0.8667\n",
      "Epoch 46/100\n",
      "26/26 [==============================] - ETA: 0s - loss: 0.5714 - accuracy: 0.71 - ETA: 0s - loss: 0.4456 - accuracy: 0.80 - 0s 4ms/step - loss: 0.4309 - accuracy: 0.8165 - val_loss: 0.3966 - val_accuracy: 0.8222\n",
      "Epoch 47/100\n",
      "26/26 [==============================] - ETA: 0s - loss: 0.3763 - accuracy: 0.81 - ETA: 0s - loss: 0.4396 - accuracy: 0.81 - 0s 4ms/step - loss: 0.4492 - accuracy: 0.8065 - val_loss: 0.4109 - val_accuracy: 0.8222\n",
      "Epoch 48/100\n",
      "26/26 [==============================] - ETA: 0s - loss: 0.2967 - accuracy: 0.84 - ETA: 0s - loss: 0.4534 - accuracy: 0.80 - 0s 5ms/step - loss: 0.4514 - accuracy: 0.8177 - val_loss: 0.4027 - val_accuracy: 0.8778\n",
      "Epoch 49/100\n",
      "26/26 [==============================] - ETA: 0s - loss: 0.4555 - accuracy: 0.84 - ETA: 0s - loss: 0.4894 - accuracy: 0.80 - 0s 4ms/step - loss: 0.4700 - accuracy: 0.8127 - val_loss: 0.4133 - val_accuracy: 0.8556\n",
      "Epoch 50/100\n",
      "26/26 [==============================] - ETA: 0s - loss: 0.3592 - accuracy: 0.90 - ETA: 0s - loss: 0.4863 - accuracy: 0.80 - 0s 4ms/step - loss: 0.4882 - accuracy: 0.7990 - val_loss: 0.4144 - val_accuracy: 0.8000\n",
      "Epoch 51/100\n",
      "26/26 [==============================] - ETA: 0s - loss: 0.4300 - accuracy: 0.81 - ETA: 0s - loss: 0.4605 - accuracy: 0.79 - 0s 4ms/step - loss: 0.4565 - accuracy: 0.8052 - val_loss: 0.4070 - val_accuracy: 0.8333\n",
      "Epoch 52/100\n",
      "26/26 [==============================] - ETA: 0s - loss: 0.4657 - accuracy: 0.84 - ETA: 0s - loss: 0.4688 - accuracy: 0.78 - 0s 5ms/step - loss: 0.4541 - accuracy: 0.7965 - val_loss: 0.4135 - val_accuracy: 0.8333\n",
      "Epoch 53/100\n",
      "26/26 [==============================] - ETA: 0s - loss: 0.3780 - accuracy: 0.78 - ETA: 0s - loss: 0.4812 - accuracy: 0.79 - 0s 5ms/step - loss: 0.4694 - accuracy: 0.8065 - val_loss: 0.3991 - val_accuracy: 0.8444\n",
      "Epoch 54/100\n",
      "26/26 [==============================] - ETA: 0s - loss: 0.3115 - accuracy: 0.84 - ETA: 0s - loss: 0.4463 - accuracy: 0.79 - 0s 5ms/step - loss: 0.4500 - accuracy: 0.8065 - val_loss: 0.4123 - val_accuracy: 0.8556\n",
      "Epoch 55/100\n",
      "26/26 [==============================] - ETA: 0s - loss: 0.5753 - accuracy: 0.81 - ETA: 0s - loss: 0.4502 - accuracy: 0.80 - 0s 4ms/step - loss: 0.4409 - accuracy: 0.8165 - val_loss: 0.3942 - val_accuracy: 0.8556\n",
      "Epoch 56/100\n",
      "26/26 [==============================] - ETA: 0s - loss: 0.3696 - accuracy: 0.84 - ETA: 0s - loss: 0.4230 - accuracy: 0.80 - 0s 4ms/step - loss: 0.4379 - accuracy: 0.8077 - val_loss: 0.3947 - val_accuracy: 0.8444\n",
      "Epoch 57/100\n",
      "26/26 [==============================] - ETA: 0s - loss: 0.5653 - accuracy: 0.78 - ETA: 0s - loss: 0.4241 - accuracy: 0.81 - 0s 4ms/step - loss: 0.4502 - accuracy: 0.8052 - val_loss: 0.4084 - val_accuracy: 0.8333\n",
      "Epoch 58/100\n",
      "26/26 [==============================] - ETA: 0s - loss: 0.7113 - accuracy: 0.75 - ETA: 0s - loss: 0.4449 - accuracy: 0.81 - 0s 4ms/step - loss: 0.4359 - accuracy: 0.8202 - val_loss: 0.3884 - val_accuracy: 0.8444\n",
      "Epoch 59/100\n",
      "26/26 [==============================] - ETA: 0s - loss: 0.5384 - accuracy: 0.71 - ETA: 0s - loss: 0.4295 - accuracy: 0.80 - 0s 4ms/step - loss: 0.4330 - accuracy: 0.8015 - val_loss: 0.3959 - val_accuracy: 0.8222\n",
      "Epoch 60/100\n",
      "26/26 [==============================] - ETA: 0s - loss: 0.5228 - accuracy: 0.81 - ETA: 0s - loss: 0.4878 - accuracy: 0.81 - 0s 4ms/step - loss: 0.4757 - accuracy: 0.8152 - val_loss: 0.4328 - val_accuracy: 0.8222\n",
      "Epoch 61/100\n",
      "26/26 [==============================] - ETA: 0s - loss: 0.4086 - accuracy: 0.78 - ETA: 0s - loss: 0.4564 - accuracy: 0.80 - 0s 5ms/step - loss: 0.4546 - accuracy: 0.7978 - val_loss: 0.3969 - val_accuracy: 0.8222\n",
      "Epoch 62/100\n",
      "26/26 [==============================] - ETA: 0s - loss: 0.3880 - accuracy: 0.81 - ETA: 0s - loss: 0.5062 - accuracy: 0.79 - 0s 5ms/step - loss: 0.4621 - accuracy: 0.8077 - val_loss: 0.4224 - val_accuracy: 0.8000\n",
      "Epoch 63/100\n",
      "26/26 [==============================] - ETA: 0s - loss: 0.4519 - accuracy: 0.84 - ETA: 0s - loss: 0.4742 - accuracy: 0.79 - 0s 6ms/step - loss: 0.4741 - accuracy: 0.7953 - val_loss: 0.4173 - val_accuracy: 0.8222\n",
      "Epoch 64/100\n",
      "26/26 [==============================] - ETA: 0s - loss: 0.5882 - accuracy: 0.71 - ETA: 0s - loss: 0.4401 - accuracy: 0.81 - 0s 5ms/step - loss: 0.4476 - accuracy: 0.8152 - val_loss: 0.4452 - val_accuracy: 0.8444\n",
      "Epoch 65/100\n",
      "26/26 [==============================] - ETA: 0s - loss: 0.5132 - accuracy: 0.71 - ETA: 0s - loss: 0.6508 - accuracy: 0.72 - 0s 4ms/step - loss: 0.6356 - accuracy: 0.7303 - val_loss: 0.3831 - val_accuracy: 0.8444\n",
      "Epoch 66/100\n",
      "26/26 [==============================] - ETA: 0s - loss: 0.2998 - accuracy: 0.81 - ETA: 0s - loss: 0.5572 - accuracy: 0.75 - 0s 5ms/step - loss: 0.5574 - accuracy: 0.7578 - val_loss: 0.5639 - val_accuracy: 0.8000\n",
      "Epoch 67/100\n",
      "26/26 [==============================] - ETA: 0s - loss: 0.5884 - accuracy: 0.68 - ETA: 0s - loss: 0.8724 - accuracy: 0.67 - 0s 5ms/step - loss: 0.8635 - accuracy: 0.6754 - val_loss: 0.5420 - val_accuracy: 0.7222\n",
      "Epoch 68/100\n",
      "26/26 [==============================] - ETA: 0s - loss: 0.5485 - accuracy: 0.75 - ETA: 0s - loss: 0.5461 - accuracy: 0.76 - 0s 5ms/step - loss: 0.5563 - accuracy: 0.7653 - val_loss: 0.4169 - val_accuracy: 0.8222\n",
      "Epoch 69/100\n",
      "26/26 [==============================] - ETA: 0s - loss: 0.4266 - accuracy: 0.84 - ETA: 0s - loss: 0.5005 - accuracy: 0.78 - 0s 4ms/step - loss: 0.4917 - accuracy: 0.7903 - val_loss: 0.4084 - val_accuracy: 0.8222\n",
      "Epoch 70/100\n",
      "26/26 [==============================] - ETA: 0s - loss: 0.4798 - accuracy: 0.78 - ETA: 0s - loss: 0.5656 - accuracy: 0.75 - 0s 5ms/step - loss: 0.5709 - accuracy: 0.7478 - val_loss: 0.4396 - val_accuracy: 0.8000\n",
      "Epoch 71/100\n",
      "26/26 [==============================] - ETA: 0s - loss: 0.6401 - accuracy: 0.65 - ETA: 0s - loss: 0.5291 - accuracy: 0.78 - 0s 5ms/step - loss: 0.5267 - accuracy: 0.7803 - val_loss: 0.4097 - val_accuracy: 0.8444\n",
      "Epoch 72/100\n",
      "26/26 [==============================] - ETA: 0s - loss: 0.4260 - accuracy: 0.75 - ETA: 0s - loss: 0.4651 - accuracy: 0.79 - 0s 6ms/step - loss: 0.4821 - accuracy: 0.7928 - val_loss: 0.4218 - val_accuracy: 0.8333\n",
      "Epoch 73/100\n",
      "26/26 [==============================] - ETA: 0s - loss: 0.5654 - accuracy: 0.71 - ETA: 0s - loss: 0.4454 - accuracy: 0.81 - 0s 6ms/step - loss: 0.4661 - accuracy: 0.7990 - val_loss: 0.4438 - val_accuracy: 0.8111\n",
      "Epoch 74/100\n",
      "26/26 [==============================] - ETA: 0s - loss: 0.4972 - accuracy: 0.81 - ETA: 0s - loss: 0.5076 - accuracy: 0.76 - 0s 5ms/step - loss: 0.4999 - accuracy: 0.7878 - val_loss: 0.4191 - val_accuracy: 0.7889\n",
      "Epoch 75/100\n",
      "26/26 [==============================] - ETA: 0s - loss: 0.5779 - accuracy: 0.71 - ETA: 0s - loss: 0.4458 - accuracy: 0.81 - 0s 5ms/step - loss: 0.4793 - accuracy: 0.7915 - val_loss: 0.4384 - val_accuracy: 0.8333\n",
      "Epoch 76/100\n"
     ]
    },
    {
     "name": "stdout",
     "output_type": "stream",
     "text": [
      "26/26 [==============================] - ETA: 0s - loss: 0.5245 - accuracy: 0.68 - ETA: 0s - loss: 0.4329 - accuracy: 0.81 - 0s 5ms/step - loss: 0.4555 - accuracy: 0.8027 - val_loss: 0.4183 - val_accuracy: 0.8222\n",
      "Epoch 77/100\n",
      "26/26 [==============================] - ETA: 0s - loss: 0.4841 - accuracy: 0.71 - ETA: 0s - loss: 0.4385 - accuracy: 0.81 - 0s 4ms/step - loss: 0.4511 - accuracy: 0.8015 - val_loss: 0.4011 - val_accuracy: 0.8333\n",
      "Epoch 78/100\n",
      "26/26 [==============================] - ETA: 0s - loss: 0.3305 - accuracy: 0.84 - ETA: 0s - loss: 0.4464 - accuracy: 0.80 - 0s 4ms/step - loss: 0.4428 - accuracy: 0.8102 - val_loss: 0.4110 - val_accuracy: 0.8222\n",
      "Epoch 79/100\n",
      "26/26 [==============================] - ETA: 0s - loss: 0.5234 - accuracy: 0.75 - ETA: 0s - loss: 0.4934 - accuracy: 0.78 - 0s 4ms/step - loss: 0.4790 - accuracy: 0.7903 - val_loss: 0.4396 - val_accuracy: 0.8111\n",
      "Epoch 80/100\n",
      "26/26 [==============================] - ETA: 0s - loss: 0.4431 - accuracy: 0.81 - ETA: 0s - loss: 0.4749 - accuracy: 0.80 - 0s 4ms/step - loss: 0.4764 - accuracy: 0.8065 - val_loss: 0.4199 - val_accuracy: 0.8556\n",
      "Epoch 81/100\n",
      "26/26 [==============================] - ETA: 0s - loss: 0.4617 - accuracy: 0.81 - ETA: 0s - loss: 0.4559 - accuracy: 0.81 - 0s 4ms/step - loss: 0.4478 - accuracy: 0.8152 - val_loss: 0.4098 - val_accuracy: 0.8333\n",
      "Epoch 82/100\n",
      "26/26 [==============================] - ETA: 0s - loss: 0.6728 - accuracy: 0.71 - ETA: 0s - loss: 0.4731 - accuracy: 0.80 - 0s 5ms/step - loss: 0.4527 - accuracy: 0.8052 - val_loss: 0.4035 - val_accuracy: 0.8222\n",
      "Epoch 83/100\n",
      "26/26 [==============================] - ETA: 0s - loss: 0.3738 - accuracy: 0.84 - ETA: 0s - loss: 0.4484 - accuracy: 0.78 - 0s 4ms/step - loss: 0.4687 - accuracy: 0.7790 - val_loss: 0.3935 - val_accuracy: 0.8667\n",
      "Epoch 84/100\n",
      "26/26 [==============================] - ETA: 0s - loss: 0.2962 - accuracy: 0.84 - ETA: 0s - loss: 0.4609 - accuracy: 0.78 - ETA: 0s - loss: 0.4467 - accuracy: 0.80 - 0s 6ms/step - loss: 0.4467 - accuracy: 0.8027 - val_loss: 0.4025 - val_accuracy: 0.8111\n",
      "Epoch 85/100\n",
      "26/26 [==============================] - ETA: 0s - loss: 0.4203 - accuracy: 0.81 - ETA: 0s - loss: 0.4364 - accuracy: 0.81 - 0s 6ms/step - loss: 0.4304 - accuracy: 0.8152 - val_loss: 0.4222 - val_accuracy: 0.8222\n",
      "Epoch 86/100\n",
      "26/26 [==============================] - ETA: 0s - loss: 0.6780 - accuracy: 0.65 - ETA: 0s - loss: 0.4615 - accuracy: 0.80 - 0s 6ms/step - loss: 0.4448 - accuracy: 0.8140 - val_loss: 0.3924 - val_accuracy: 0.8111\n",
      "Epoch 87/100\n",
      "26/26 [==============================] - ETA: 0s - loss: 0.5912 - accuracy: 0.62 - ETA: 0s - loss: 0.4468 - accuracy: 0.79 - 0s 5ms/step - loss: 0.4538 - accuracy: 0.8077 - val_loss: 0.4026 - val_accuracy: 0.8222\n",
      "Epoch 88/100\n",
      "26/26 [==============================] - ETA: 0s - loss: 0.5418 - accuracy: 0.71 - ETA: 0s - loss: 0.4605 - accuracy: 0.80 - 0s 5ms/step - loss: 0.4552 - accuracy: 0.8115 - val_loss: 0.4002 - val_accuracy: 0.8556\n",
      "Epoch 89/100\n",
      "26/26 [==============================] - ETA: 0s - loss: 0.6167 - accuracy: 0.59 - ETA: 0s - loss: 0.4671 - accuracy: 0.79 - 0s 6ms/step - loss: 0.4632 - accuracy: 0.8027 - val_loss: 0.4086 - val_accuracy: 0.8333\n",
      "Epoch 90/100\n",
      "26/26 [==============================] - ETA: 0s - loss: 0.5153 - accuracy: 0.75 - ETA: 0s - loss: 0.4955 - accuracy: 0.78 - 0s 6ms/step - loss: 0.4643 - accuracy: 0.8052 - val_loss: 0.3844 - val_accuracy: 0.8444\n",
      "Epoch 91/100\n",
      "26/26 [==============================] - ETA: 0s - loss: 0.6098 - accuracy: 0.75 - ETA: 0s - loss: 0.4684 - accuracy: 0.80 - 0s 6ms/step - loss: 0.4586 - accuracy: 0.8102 - val_loss: 0.3961 - val_accuracy: 0.8333\n",
      "Epoch 92/100\n",
      "26/26 [==============================] - ETA: 0s - loss: 0.4434 - accuracy: 0.81 - ETA: 0s - loss: 0.4878 - accuracy: 0.79 - 0s 5ms/step - loss: 0.4687 - accuracy: 0.8015 - val_loss: 0.3983 - val_accuracy: 0.8667\n",
      "Epoch 93/100\n",
      "26/26 [==============================] - ETA: 0s - loss: 0.3269 - accuracy: 0.87 - ETA: 0s - loss: 0.4568 - accuracy: 0.80 - 0s 5ms/step - loss: 0.4597 - accuracy: 0.8027 - val_loss: 0.4005 - val_accuracy: 0.8333\n",
      "Epoch 94/100\n",
      "26/26 [==============================] - ETA: 0s - loss: 0.5435 - accuracy: 0.71 - ETA: 0s - loss: 0.4422 - accuracy: 0.81 - 0s 5ms/step - loss: 0.4344 - accuracy: 0.8115 - val_loss: 0.3907 - val_accuracy: 0.8667\n",
      "Epoch 95/100\n",
      "26/26 [==============================] - ETA: 0s - loss: 0.4137 - accuracy: 0.84 - ETA: 0s - loss: 0.4630 - accuracy: 0.78 - 0s 5ms/step - loss: 0.4636 - accuracy: 0.7928 - val_loss: 0.3942 - val_accuracy: 0.8333\n",
      "Epoch 96/100\n",
      "26/26 [==============================] - ETA: 0s - loss: 0.2614 - accuracy: 0.90 - ETA: 0s - loss: 0.4633 - accuracy: 0.80 - 0s 5ms/step - loss: 0.4530 - accuracy: 0.8140 - val_loss: 0.3948 - val_accuracy: 0.8222\n",
      "Epoch 97/100\n",
      "26/26 [==============================] - ETA: 0s - loss: 0.4215 - accuracy: 0.78 - ETA: 0s - loss: 0.4288 - accuracy: 0.82 - 0s 6ms/step - loss: 0.4400 - accuracy: 0.8177 - val_loss: 0.3940 - val_accuracy: 0.8333\n",
      "Epoch 98/100\n",
      "26/26 [==============================] - ETA: 0s - loss: 0.5824 - accuracy: 0.71 - ETA: 0s - loss: 0.4083 - accuracy: 0.82 - ETA: 0s - loss: 0.4312 - accuracy: 0.81 - 0s 7ms/step - loss: 0.4307 - accuracy: 0.8140 - val_loss: 0.4073 - val_accuracy: 0.8333\n",
      "Epoch 99/100\n",
      "26/26 [==============================] - ETA: 0s - loss: 0.4094 - accuracy: 0.81 - ETA: 0s - loss: 0.4792 - accuracy: 0.80 - 0s 5ms/step - loss: 0.4586 - accuracy: 0.8090 - val_loss: 0.4008 - val_accuracy: 0.8333\n",
      "Epoch 100/100\n",
      "26/26 [==============================] - ETA: 0s - loss: 0.4975 - accuracy: 0.75 - ETA: 0s - loss: 0.4349 - accuracy: 0.82 - 0s 6ms/step - loss: 0.4567 - accuracy: 0.8090 - val_loss: 0.4031 - val_accuracy: 0.8556\n"
     ]
    },
    {
     "data": {
      "text/plain": [
       "<tensorflow.python.keras.callbacks.History at 0x21e0a615488>"
      ]
     },
     "execution_count": 41,
     "metadata": {},
     "output_type": "execute_result"
    }
   ],
   "source": [
    "model.fit(train_predictors,train_target,epochs = 100, validation_split = 0.1, initial_epoch = 3)"
   ]
  },
  {
   "cell_type": "code",
   "execution_count": null,
   "metadata": {},
   "outputs": [],
   "source": []
  },
  {
   "cell_type": "code",
   "execution_count": null,
   "metadata": {},
   "outputs": [],
   "source": []
  },
  {
   "cell_type": "code",
   "execution_count": null,
   "metadata": {},
   "outputs": [],
   "source": []
  },
  {
   "cell_type": "code",
   "execution_count": 42,
   "metadata": {},
   "outputs": [],
   "source": [
    "y_pred = model.predict(X_test).round()"
   ]
  },
  {
   "cell_type": "code",
   "execution_count": 43,
   "metadata": {},
   "outputs": [
    {
     "name": "stdout",
     "output_type": "stream",
     "text": [
      "[[102   8]\n",
      " [ 26  43]]\n"
     ]
    }
   ],
   "source": [
    "from sklearn.metrics import confusion_matrix\n",
    "cm = confusion_matrix(y_test, y_pred)\n",
    "print(cm)"
   ]
  },
  {
   "cell_type": "code",
   "execution_count": 44,
   "metadata": {},
   "outputs": [],
   "source": [
    "survived = model.predict(test_predictors).round()"
   ]
  },
  {
   "cell_type": "code",
   "execution_count": 45,
   "metadata": {},
   "outputs": [],
   "source": [
    "test['Survived'] = survived\n",
    "test['Survived'] = test['Survived'].astype(int)"
   ]
  },
  {
   "cell_type": "code",
   "execution_count": 46,
   "metadata": {},
   "outputs": [
    {
     "data": {
      "text/html": [
       "<div>\n",
       "<style scoped>\n",
       "    .dataframe tbody tr th:only-of-type {\n",
       "        vertical-align: middle;\n",
       "    }\n",
       "\n",
       "    .dataframe tbody tr th {\n",
       "        vertical-align: top;\n",
       "    }\n",
       "\n",
       "    .dataframe thead th {\n",
       "        text-align: right;\n",
       "    }\n",
       "</style>\n",
       "<table border=\"1\" class=\"dataframe\">\n",
       "  <thead>\n",
       "    <tr style=\"text-align: right;\">\n",
       "      <th></th>\n",
       "      <th>PassengerId</th>\n",
       "      <th>Name</th>\n",
       "      <th>SibSp</th>\n",
       "      <th>Parch</th>\n",
       "      <th>Ticket</th>\n",
       "      <th>Fare</th>\n",
       "      <th>Age_2</th>\n",
       "      <th>Sex_male</th>\n",
       "      <th>Embarked_Q</th>\n",
       "      <th>Embarked_S</th>\n",
       "      <th>Pclass_2</th>\n",
       "      <th>Pclass_3</th>\n",
       "      <th>Survived</th>\n",
       "    </tr>\n",
       "  </thead>\n",
       "  <tbody>\n",
       "    <tr>\n",
       "      <th>0</th>\n",
       "      <td>892</td>\n",
       "      <td>Kelly, Mr. James</td>\n",
       "      <td>0</td>\n",
       "      <td>0</td>\n",
       "      <td>330911</td>\n",
       "      <td>7.8292</td>\n",
       "      <td>34.5</td>\n",
       "      <td>1</td>\n",
       "      <td>1</td>\n",
       "      <td>0</td>\n",
       "      <td>0</td>\n",
       "      <td>1</td>\n",
       "      <td>0</td>\n",
       "    </tr>\n",
       "    <tr>\n",
       "      <th>1</th>\n",
       "      <td>893</td>\n",
       "      <td>Wilkes, Mrs. James (Ellen Needs)</td>\n",
       "      <td>1</td>\n",
       "      <td>0</td>\n",
       "      <td>363272</td>\n",
       "      <td>7.0000</td>\n",
       "      <td>47.0</td>\n",
       "      <td>0</td>\n",
       "      <td>0</td>\n",
       "      <td>1</td>\n",
       "      <td>0</td>\n",
       "      <td>1</td>\n",
       "      <td>0</td>\n",
       "    </tr>\n",
       "    <tr>\n",
       "      <th>2</th>\n",
       "      <td>894</td>\n",
       "      <td>Myles, Mr. Thomas Francis</td>\n",
       "      <td>0</td>\n",
       "      <td>0</td>\n",
       "      <td>240276</td>\n",
       "      <td>9.6875</td>\n",
       "      <td>62.0</td>\n",
       "      <td>1</td>\n",
       "      <td>1</td>\n",
       "      <td>0</td>\n",
       "      <td>1</td>\n",
       "      <td>0</td>\n",
       "      <td>0</td>\n",
       "    </tr>\n",
       "    <tr>\n",
       "      <th>3</th>\n",
       "      <td>895</td>\n",
       "      <td>Wirz, Mr. Albert</td>\n",
       "      <td>0</td>\n",
       "      <td>0</td>\n",
       "      <td>315154</td>\n",
       "      <td>8.6625</td>\n",
       "      <td>27.0</td>\n",
       "      <td>1</td>\n",
       "      <td>0</td>\n",
       "      <td>1</td>\n",
       "      <td>0</td>\n",
       "      <td>1</td>\n",
       "      <td>0</td>\n",
       "    </tr>\n",
       "    <tr>\n",
       "      <th>4</th>\n",
       "      <td>896</td>\n",
       "      <td>Hirvonen, Mrs. Alexander (Helga E Lindqvist)</td>\n",
       "      <td>1</td>\n",
       "      <td>1</td>\n",
       "      <td>3101298</td>\n",
       "      <td>12.2875</td>\n",
       "      <td>22.0</td>\n",
       "      <td>0</td>\n",
       "      <td>0</td>\n",
       "      <td>1</td>\n",
       "      <td>0</td>\n",
       "      <td>1</td>\n",
       "      <td>0</td>\n",
       "    </tr>\n",
       "  </tbody>\n",
       "</table>\n",
       "</div>"
      ],
      "text/plain": [
       "   PassengerId                                          Name  SibSp  Parch  \\\n",
       "0          892                              Kelly, Mr. James      0      0   \n",
       "1          893              Wilkes, Mrs. James (Ellen Needs)      1      0   \n",
       "2          894                     Myles, Mr. Thomas Francis      0      0   \n",
       "3          895                              Wirz, Mr. Albert      0      0   \n",
       "4          896  Hirvonen, Mrs. Alexander (Helga E Lindqvist)      1      1   \n",
       "\n",
       "    Ticket     Fare  Age_2  Sex_male  Embarked_Q  Embarked_S  Pclass_2  \\\n",
       "0   330911   7.8292   34.5         1           1           0         0   \n",
       "1   363272   7.0000   47.0         0           0           1         0   \n",
       "2   240276   9.6875   62.0         1           1           0         1   \n",
       "3   315154   8.6625   27.0         1           0           1         0   \n",
       "4  3101298  12.2875   22.0         0           0           1         0   \n",
       "\n",
       "   Pclass_3  Survived  \n",
       "0         1         0  \n",
       "1         1         0  \n",
       "2         0         0  \n",
       "3         1         0  \n",
       "4         1         0  "
      ]
     },
     "execution_count": 46,
     "metadata": {},
     "output_type": "execute_result"
    }
   ],
   "source": [
    "test.head()"
   ]
  },
  {
   "cell_type": "code",
   "execution_count": 47,
   "metadata": {},
   "outputs": [],
   "source": [
    "Final = test.drop(test.columns.difference(['PassengerId','Survived']), axis = 1)"
   ]
  },
  {
   "cell_type": "code",
   "execution_count": 48,
   "metadata": {},
   "outputs": [
    {
     "data": {
      "text/html": [
       "<div>\n",
       "<style scoped>\n",
       "    .dataframe tbody tr th:only-of-type {\n",
       "        vertical-align: middle;\n",
       "    }\n",
       "\n",
       "    .dataframe tbody tr th {\n",
       "        vertical-align: top;\n",
       "    }\n",
       "\n",
       "    .dataframe thead th {\n",
       "        text-align: right;\n",
       "    }\n",
       "</style>\n",
       "<table border=\"1\" class=\"dataframe\">\n",
       "  <thead>\n",
       "    <tr style=\"text-align: right;\">\n",
       "      <th></th>\n",
       "      <th>PassengerId</th>\n",
       "      <th>Survived</th>\n",
       "    </tr>\n",
       "  </thead>\n",
       "  <tbody>\n",
       "    <tr>\n",
       "      <th>0</th>\n",
       "      <td>892</td>\n",
       "      <td>0</td>\n",
       "    </tr>\n",
       "    <tr>\n",
       "      <th>1</th>\n",
       "      <td>893</td>\n",
       "      <td>0</td>\n",
       "    </tr>\n",
       "    <tr>\n",
       "      <th>2</th>\n",
       "      <td>894</td>\n",
       "      <td>0</td>\n",
       "    </tr>\n",
       "    <tr>\n",
       "      <th>3</th>\n",
       "      <td>895</td>\n",
       "      <td>0</td>\n",
       "    </tr>\n",
       "    <tr>\n",
       "      <th>4</th>\n",
       "      <td>896</td>\n",
       "      <td>0</td>\n",
       "    </tr>\n",
       "  </tbody>\n",
       "</table>\n",
       "</div>"
      ],
      "text/plain": [
       "   PassengerId  Survived\n",
       "0          892         0\n",
       "1          893         0\n",
       "2          894         0\n",
       "3          895         0\n",
       "4          896         0"
      ]
     },
     "execution_count": 48,
     "metadata": {},
     "output_type": "execute_result"
    }
   ],
   "source": [
    "Final.head()"
   ]
  },
  {
   "cell_type": "code",
   "execution_count": 49,
   "metadata": {},
   "outputs": [],
   "source": [
    "Final.to_csv('Titanic_with DeepLearning_5(keras_tuner).csv', index=False)"
   ]
  },
  {
   "cell_type": "code",
   "execution_count": null,
   "metadata": {},
   "outputs": [],
   "source": []
  }
 ],
 "metadata": {
  "kernelspec": {
   "display_name": "Python 3",
   "language": "python",
   "name": "python3"
  },
  "language_info": {
   "codemirror_mode": {
    "name": "ipython",
    "version": 3
   },
   "file_extension": ".py",
   "mimetype": "text/x-python",
   "name": "python",
   "nbconvert_exporter": "python",
   "pygments_lexer": "ipython3",
   "version": "3.7.7"
  }
 },
 "nbformat": 4,
 "nbformat_minor": 4
}
